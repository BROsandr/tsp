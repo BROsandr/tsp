{
 "cells": [
  {
   "cell_type": "code",
   "execution_count": null,
   "metadata": {},
   "outputs": [],
   "source": [
    "from enum import Enum\n",
    "\n",
    "class BlockType(Enum):\n",
    "\tBlockNone = 0\n",
    "\tBlockL1   = 1\n",
    "\tBlockL2   = 2\n",
    "\tBlockL3   = 3\n",
    "\tBlockL4   = 4\n",
    "\tBlockT4   = 5\n",
    "\tBlockT8   = 6\n",
    "\tBlockB1   = 7\n",
    "\n",
    "\n",
    "road = [\n",
    "  BlockType.BlockL1,\n",
    "  BlockType.BlockT4,\n",
    "  BlockType.BlockL1,\n",
    "  BlockType.BlockT4,\n",
    "  BlockType.BlockL1,\n",
    "  BlockType.BlockT4,\n",
    "  BlockType.BlockL1,\n",
    "  BlockType.BlockT4,\n",
    "]"
   ]
  },
  {
   "cell_type": "code",
   "execution_count": null,
   "metadata": {},
   "outputs": [
    {
     "ename": "IndentationError",
     "evalue": "unindent does not match any outer indentation level (<string>, line 6)",
     "output_type": "error",
     "traceback": [
      "\u001b[0;36m  File \u001b[0;32m<string>:6\u001b[0;36m\u001b[0m\n\u001b[0;31m    full_type = (block_type, length)\u001b[0m\n\u001b[0m                                    ^\u001b[0m\n\u001b[0;31mIndentationError\u001b[0m\u001b[0;31m:\u001b[0m unindent does not match any outer indentation level\n"
     ]
    }
   ],
   "source": [
    "def get_dx_dy(block_type: BlockType, turn_left: bool)->tuple[float, float]:\n",
    "    from math import cos, sin, pi\n",
    "\n",
    "    dangle = 0\n",
    "    dx = .0\n",
    "    dy = .0\n",
    "    x = .0\n",
    "    y = .0\n",
    "\n",
    "    match block_type:\n",
    "      case BlockType.BlockL1: dx = 1\n",
    "      case BlockType.BlockL2: dx = 2\n",
    "      case BlockType.BlockL3: dx = 3\n",
    "      case BlockType.BlockL4: dx = 4\n",
    "      case BlockType.BlockB1: dx = 4\n",
    "      case BlockType.BlockT4:\n",
    "          dx = -3\n",
    "          dy = -3\n",
    "          dangle = -90\n",
    "      case BlockType.BlockT8:\n",
    "          dx = 3*cos(-pi/4)-3\n",
    "          dy = 3*sin(-pi/4)\n",
    "          dangle = -45\n",
    "\n",
    "    if turn_left: dangle -= dangle\n",
    "\n",
    "    x += dx * cos(angle * M_PI / 180) - dy * sin(angle * M_PI / 180);\n",
    "    y += dx * sin(angle * M_PI / 180) + dy * sin(angle * M_PI / 180);\n",
    "    angle = (angle + dangle) % 360;"
   ]
  }
 ],
 "metadata": {
  "kernelspec": {
   "display_name": "Python 3",
   "language": "python",
   "name": "python3"
  },
  "language_info": {
   "codemirror_mode": {
    "name": "ipython",
    "version": 3
   },
   "file_extension": ".py",
   "mimetype": "text/x-python",
   "name": "python",
   "nbconvert_exporter": "python",
   "pygments_lexer": "ipython3",
   "version": "3.12.7"
  }
 },
 "nbformat": 4,
 "nbformat_minor": 2
}
